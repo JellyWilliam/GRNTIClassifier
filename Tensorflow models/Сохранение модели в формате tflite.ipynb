{
 "cells": [
  {
   "cell_type": "markdown",
   "id": "a5ae511f-1193-4861-a6e5-60cc6db704b3",
   "metadata": {},
   "source": [
    "# Импорт библиотек"
   ]
  },
  {
   "cell_type": "code",
   "execution_count": null,
   "id": "57131982-8799-48ba-af20-1c8b4aba43b4",
   "metadata": {},
   "outputs": [],
   "source": [
    "import warnings\n",
    "\n",
    "warnings.filterwarnings(\"ignore\")\n",
    "os.environ['TF_CPP_MIN_LOG_LEVEL'] = '3'\n",
    "\n",
    "import tensorflow as tf\n",
    "import tensorflow_hub as hub\n",
    "import tensorflow_text as text"
   ]
  },
  {
   "cell_type": "markdown",
   "id": "00acf4ea-65de-43b2-8306-15502d4b3526",
   "metadata": {},
   "source": [
    "# Функция создания архитектуры классификатора"
   ]
  },
  {
   "cell_type": "code",
   "execution_count": null,
   "id": "7aec237d-21d1-4b2e-9125-bf3e461f91e3",
   "metadata": {},
   "outputs": [],
   "source": [
    "def build_classifier_model():\n",
    "    text_input = tf.keras.layers.Input(shape=(), dtype=tf.string, name='text')\n",
    "    preprocessing_layer = hub.KerasLayer(\"https://tfhub.dev/tensorflow/bert_multi_cased_preprocess/3\", name='preprocessing')\n",
    "    encoder_inputs = preprocessing_layer(text_input)\n",
    "    encoder = hub.KerasLayer(\"https://tfhub.dev/tensorflow/bert_multi_cased_L-12_H-768_A-12/4\", trainable=True, name='BERT')\n",
    "    outputs = encoder(encoder_inputs)\n",
    "    net = outputs['pooled_output']\n",
    "    net = tf.keras.layers.Dropout(0.1)(net)\n",
    "    net = tf.keras.layers.Dense(69, activation=\"softmax\", name='classifier')(net)\n",
    "    return tf.keras.Model(text_input, net)"
   ]
  },
  {
   "cell_type": "markdown",
   "id": "94604f98-d233-4eaa-89d1-c2bb4b030346",
   "metadata": {},
   "source": [
    "# Инициализация и загрузка весов модели"
   ]
  },
  {
   "cell_type": "code",
   "execution_count": null,
   "id": "c21d0a20-e4ea-44de-be57-6884d90fdc50",
   "metadata": {},
   "outputs": [],
   "source": [
    "model = build_classifier_model()"
   ]
  },
  {
   "cell_type": "code",
   "execution_count": null,
   "id": "329f4ea2-53e2-408d-9602-da941c7b939e",
   "metadata": {},
   "outputs": [],
   "source": [
    "model.load_weights('GRNTIClassifier_BERT_v1.h5')"
   ]
  },
  {
   "cell_type": "markdown",
   "id": "437596b1-1d6a-43d7-83c3-862c40c07034",
   "metadata": {},
   "source": [
    "# Конвертация модели"
   ]
  },
  {
   "cell_type": "code",
   "execution_count": null,
   "id": "96aa241a-df6b-42f6-bffc-af6198c631de",
   "metadata": {},
   "outputs": [],
   "source": [
    "tf.saved_model.save(model, \"model\")"
   ]
  },
  {
   "cell_type": "code",
   "execution_count": null,
   "id": "d25b2e7f-6e91-4a0c-b68c-ba4165e2ea61",
   "metadata": {},
   "outputs": [],
   "source": [
    "converter = tf.lite.TFLiteConverter.from_saved_model(\"model\")\n",
    "converter.target_spec.supported_ops = [tf.lite.OpsSet.TFLITE_BUILTINS, tf.lite.OpsSet.SELECT_TF_OPS]\n",
    "converter._experimental_lower_tensor_list_ops = False\n",
    "tflite_model = converter.convert()\n",
    "\n",
    "with open('model.tflite', 'wb') as f:\n",
    "  f.write(tflite_model)"
   ]
  },
  {
   "cell_type": "code",
   "execution_count": null,
   "id": "bd11e6d5-72ce-4a66-ab15-de93551c7046",
   "metadata": {},
   "outputs": [],
   "source": []
  }
 ],
 "metadata": {
  "kernelspec": {
   "display_name": "Python 3 (ipykernel)",
   "language": "python",
   "name": "python3"
  },
  "language_info": {
   "codemirror_mode": {
    "name": "ipython",
    "version": 3
   },
   "file_extension": ".py",
   "mimetype": "text/x-python",
   "name": "python",
   "nbconvert_exporter": "python",
   "pygments_lexer": "ipython3",
   "version": "3.10.9"
  }
 },
 "nbformat": 4,
 "nbformat_minor": 5
}
