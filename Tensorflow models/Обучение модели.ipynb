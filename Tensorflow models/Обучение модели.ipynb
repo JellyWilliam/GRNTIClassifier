{
 "cells": [
  {
   "cell_type": "markdown",
   "id": "03931b7c-bcde-450b-a91c-a46bbfddd799",
   "metadata": {},
   "source": [
    "# Импорт библиотек"
   ]
  },
  {
   "cell_type": "code",
   "execution_count": null,
   "id": "9e809859-709e-4c94-86f5-d27b169e24f0",
   "metadata": {},
   "outputs": [],
   "source": [
    "import os\n",
    "import warnings\n",
    "\n",
    "warnings.filterwarnings(\"ignore\")\n",
    "os.environ['TF_CPP_MIN_LOG_LEVEL'] = '3'\n",
    "\n",
    "import numpy as np\n",
    "import pandas as pd\n",
    "\n",
    "from sklearn.model_selection import train_test_split\n",
    "from sklearn.metrics import classification_report, confusion_matrix\n",
    "\n",
    "import tensorflow as tf\n",
    "import tensorflow_hub as hub\n",
    "import tensorflow_text as text\n",
    "\n",
    "from official.nlp import optimization"
   ]
  },
  {
   "cell_type": "markdown",
   "id": "81be3a9e-7f1c-40f5-8bb7-fea6c18eb98e",
   "metadata": {},
   "source": [
    "# Чтение датасета"
   ]
  },
  {
   "cell_type": "code",
   "execution_count": null,
   "id": "59b56846-7c41-4a3e-bf00-f1a1fe418e53",
   "metadata": {},
   "outputs": [],
   "source": [
    "data = pd.read_csv('dataset.csv')\n",
    "\n",
    "texts = data['annotation']\n",
    "labels = data[\"labels\"]"
   ]
  },
  {
   "cell_type": "markdown",
   "id": "7aab5b3c-84a9-482c-b457-df8731fea64c",
   "metadata": {},
   "source": [
    "## Разделение на обучающую и тестовую выборки"
   ]
  },
  {
   "cell_type": "code",
   "execution_count": null,
   "id": "93472c5d-8e62-4c11-8443-e9bff5ef33a4",
   "metadata": {},
   "outputs": [],
   "source": [
    "train_text, test_text, train_labels, test_labels = train_test_split(texts, labels, test_size=0.2, random_state=42)"
   ]
  },
  {
   "cell_type": "markdown",
   "id": "4d2f803d-c64f-4952-8e3d-110446f3c905",
   "metadata": {},
   "source": [
    "# Инициализация собственного Callback класса и функции создания модели"
   ]
  },
  {
   "cell_type": "code",
   "execution_count": null,
   "id": "9a41a6a5-66e3-4d8b-aa22-db11fe50a70b",
   "metadata": {},
   "outputs": [],
   "source": [
    "class SaveBestModel(tf.keras.callbacks.Callback):\n",
    "    \"\"\"Callback класс для сохранения модели\"\"\"\n",
    "    best_weights = None\n",
    "\n",
    "    def __init__(self, save_best_metric='val_loss', search_max=False):\n",
    "        \"\"\"\n",
    "        Магический метод инициализации класса\n",
    "\n",
    "        :param save_best_metric: название метрики для определения лучших весов\n",
    "        :param search_max: направление сравнения (если True, то сохраняет при наибольшем значении метрики)\n",
    "        \"\"\"\n",
    "        self.metric_arr = []\n",
    "        self.save_best_metric = save_best_metric\n",
    "        self.max = search_max\n",
    "        if search_max:\n",
    "            self.best = float('-inf')\n",
    "        else:\n",
    "            self.best = float('inf')\n",
    "\n",
    "    def on_epoch_end(self, epoch, logs=None):\n",
    "        \"\"\"\n",
    "        Переопределенная функция tf.keras.callbacks.Callback, вызывается в конце эпохи\n",
    "\n",
    "        :param epoch: номер эпохи\n",
    "        :param logs: метрики\n",
    "        \"\"\"\n",
    "        # Получение метрики\n",
    "        metric_value = logs[self.save_best_metric]\n",
    "        # Сохранение метрики\n",
    "        self.metric_arr.append(logs)\n",
    "        # Проверка условий для сохранения модели\n",
    "        if self.max:\n",
    "            if metric_value > self.best:\n",
    "                self.best = metric_value\n",
    "                self.best_weights = self.model.get_weights()\n",
    "        else:\n",
    "            if metric_value < self.best:\n",
    "                self.best = metric_value\n",
    "                self.best_weights = self.model.get_weights()\n",
    "\n",
    "\n",
    "def build_classifier_model(num_class: int):\n",
    "    \"\"\"\n",
    "    Функция создания архитектуры модели\n",
    "\n",
    "    :param num_class: количество выходных классов\n",
    "    \"\"\"\n",
    "    # Слой входа\n",
    "    text_input = tf.keras.layers.Input(shape=(), dtype=tf.string, name='text')\n",
    "    # Слой препроцессинга для BERT\n",
    "    preprocessing_layer = hub.KerasLayer(\"https://tfhub.dev/tensorflow/bert_multi_cased_preprocess/3\",\n",
    "                                         name='preprocessing')\n",
    "    # Препроцессинг\n",
    "    encoder_inputs = preprocessing_layer(text_input)\n",
    "    # Слой модели BERT\n",
    "    encoder = hub.KerasLayer(\"https://tfhub.dev/tensorflow/bert_multi_cased_L-12_H-768_A-12/4\", trainable=True,\n",
    "                             name='BERT')\n",
    "    # Выход BERT\n",
    "    outputs = encoder(encoder_inputs)\n",
    "    # Собственные слои для классификации\n",
    "    net = outputs['pooled_output']\n",
    "    net = tf.keras.layers.Dropout(0.1)(net)\n",
    "    net = tf.keras.layers.Dense(num_class, activation=\"softmax\", name='classifier')(net)\n",
    "    return tf.keras.Model(text_input, net)"
   ]
  },
  {
   "cell_type": "markdown",
   "id": "2304901f-1a1a-46bb-a064-2085c94c29cb",
   "metadata": {},
   "source": [
    "# Инициализация модели"
   ]
  },
  {
   "cell_type": "code",
   "execution_count": null,
   "id": "16872323-4b0c-43bd-aad6-a1a5999ce7a3",
   "metadata": {},
   "outputs": [],
   "source": [
    "model = build_classifier_model(num_class=69)\n",
    "model.summary()"
   ]
  },
  {
   "cell_type": "markdown",
   "id": "29fe191c-39d1-4397-aab0-88b27ffd51fd",
   "metadata": {},
   "source": [
    "# Инициализация опитимизатора AdamW"
   ]
  },
  {
   "cell_type": "code",
   "execution_count": null,
   "id": "871df311-9b7a-4a85-bf31-c849ca387aca",
   "metadata": {},
   "outputs": [],
   "source": [
    "# Количество эпох\n",
    "epochs = 40\n",
    "# Сокрость обучения\n",
    "init_lr = 3e-5\n",
    "\n",
    "# Количество шагов в эпоху\n",
    "steps_per_epoch = tf.data.experimental.cardinality(tf.data.Dataset.from_tensor_slices({\"input\": train_text, \"output\": train_labels})).numpy()\n",
    "# Количество шагов при обучении\n",
    "num_train_steps = steps_per_epoch * epochs\n",
    "# Количество warmup шагов\n",
    "num_warmup_steps = int(0.1 * num_train_steps)\n",
    "\n",
    "# Инициализация опитимизатора\n",
    "optimizer = optimization.create_optimizer(\n",
    "    init_lr=init_lr,\n",
    "    num_train_steps=num_train_steps,\n",
    "    num_warmup_steps=num_warmup_steps,\n",
    "    optimizer_type='adamw'\n",
    ")"
   ]
  },
  {
   "cell_type": "markdown",
   "id": "f4a14a52-36d9-4a4b-9410-4abe61c75bc0",
   "metadata": {},
   "source": [
    "# Компиляция модели"
   ]
  },
  {
   "cell_type": "code",
   "execution_count": null,
   "id": "b6ff3869-a171-42a3-9b15-1f338780b2b2",
   "metadata": {},
   "outputs": [],
   "source": [
    "# Инициализация callback-а для сохранения лучших весов\n",
    "save_best_model = SaveBestModel()\n",
    "\n",
    "# Компиляция модели\n",
    "model.compile(\n",
    "    loss=tf.keras.losses.SparseCategoricalCrossentropy(from_logits=True),\n",
    "    optimizer=optimizer,\n",
    "    metrics=['accuracy']\n",
    ")"
   ]
  },
  {
   "cell_type": "markdown",
   "id": "444221c0-96ea-484c-8b7d-a7bd765d3842",
   "metadata": {},
   "source": [
    "# Обучение модели"
   ]
  },
  {
   "cell_type": "code",
   "execution_count": null,
   "id": "49458a6e-f141-429a-bd3d-978f64ea46c4",
   "metadata": {},
   "outputs": [],
   "source": [
    "model.fit(\n",
    "    train_text,\n",
    "    train_labels,\n",
    "    callbacks=[save_best_model],\n",
    "    validation_data=(test_text, test_labels),\n",
    "    epochs=epochs,\n",
    "    batch_size=25\n",
    ")"
   ]
  },
  {
   "cell_type": "markdown",
   "id": "b933d026-76d5-4f11-a1b5-217e452d927e",
   "metadata": {},
   "source": [
    "# Тестирование модели"
   ]
  },
  {
   "cell_type": "code",
   "execution_count": null,
   "id": "bb970b57-37f2-47dc-a863-2ab179e2c4ac",
   "metadata": {},
   "outputs": [],
   "source": [
    "# Загрузка и сохранение лучших весов\n",
    "model.set_weights(save_best_model.best_weights)\n",
    "model.save_weights('GRNTIClassifier_BERT_v1.h5')"
   ]
  },
  {
   "cell_type": "code",
   "execution_count": null,
   "id": "79844792",
   "metadata": {
    "collapsed": false,
    "jupyter": {
     "outputs_hidden": false
    }
   },
   "outputs": [],
   "source": [
    "# Пердсказание классов\n",
    "predict = model.predict(test_text)\n",
    "pred_arr = [tf.argmax(el).numpy() for el in predict]"
   ]
  },
  {
   "cell_type": "code",
   "execution_count": null,
   "id": "0a96479b-06c4-49d3-9f6e-6b97e82766b1",
   "metadata": {},
   "outputs": [],
   "source": [
    "# Настройка вывода numpy\n",
    "np.set_printoptions(edgeitems=np.inf)\n",
    "# Вывод матрицы потерь\n",
    "print(confusion_matrix(test_labels, pred_arr))"
   ]
  },
  {
   "cell_type": "code",
   "execution_count": null,
   "id": "38faa243-26fd-47b6-901f-1177cc996da8",
   "metadata": {},
   "outputs": [],
   "source": [
    "# Вывод репорта классификации\n",
    "print(classification_report(test_labels, pred_arr))"
   ]
  }
 ],
 "metadata": {
  "kernelspec": {
   "display_name": "Python 3 (ipykernel)",
   "language": "python",
   "name": "python3"
  },
  "language_info": {
   "codemirror_mode": {
    "name": "ipython",
    "version": 3
   },
   "file_extension": ".py",
   "mimetype": "text/x-python",
   "name": "python",
   "nbconvert_exporter": "python",
   "pygments_lexer": "ipython3",
   "version": "3.11.3"
  }
 },
 "nbformat": 4,
 "nbformat_minor": 5
}
