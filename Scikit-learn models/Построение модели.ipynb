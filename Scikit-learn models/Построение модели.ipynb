{
 "cells": [
  {
   "cell_type": "markdown",
   "id": "63ff0707",
   "metadata": {
    "collapsed": false,
    "jupyter": {
     "outputs_hidden": false
    }
   },
   "source": [
    "# Импорт библиотек"
   ]
  },
  {
   "cell_type": "code",
   "execution_count": 1,
   "id": "a6d4365d",
   "metadata": {
    "collapsed": false,
    "jupyter": {
     "outputs_hidden": false
    }
   },
   "outputs": [],
   "source": [
    "import re\n",
    "import string\n",
    "import warnings\n",
    "import pickle\n",
    "\n",
    "import pandas as pd\n",
    "import numpy as np\n",
    "\n",
    "import nltk\n",
    "from nltk.corpus import stopwords\n",
    "from nltk.tokenize import word_tokenize\n",
    "from nltk.corpus import wordnet\n",
    "from nltk.stem import WordNetLemmatizer\n",
    "\n",
    "from sklearn.model_selection import train_test_split\n",
    "from sklearn.linear_model import LogisticRegression, SGDClassifier\n",
    "from sklearn.tree import DecisionTreeClassifier\n",
    "from sklearn.ensemble import RandomForestClassifier\n",
    "from sklearn.naive_bayes import MultinomialNB\n",
    "from sklearn.metrics import classification_report, f1_score, accuracy_score, confusion_matrix\n",
    "from sklearn.feature_extraction.text import TfidfVectorizer\n",
    "\n",
    "from gensim.models import Word2Vec\n",
    "\n",
    "nltk.download('punkt', quiet=True)\n",
    "nltk.download('averaged_perceptron_tagger', quiet=True)\n",
    "nltk.download('wordnet', quiet=True)\n",
    "nltk.download('stopwords', quiet=True)\n",
    "\n",
    "warnings.filterwarnings(\"ignore\")"
   ]
  },
  {
   "cell_type": "markdown",
   "id": "382cf09d",
   "metadata": {
    "collapsed": false,
    "jupyter": {
     "outputs_hidden": false
    }
   },
   "source": [
    "# Чтение датасета"
   ]
  },
  {
   "cell_type": "code",
   "execution_count": 2,
   "id": "ef66ba86-e083-492c-bdfe-116811283abc",
   "metadata": {},
   "outputs": [
    {
     "data": {
      "text/html": [
       "<div>\n",
       "<style scoped>\n",
       "    .dataframe tbody tr th:only-of-type {\n",
       "        vertical-align: middle;\n",
       "    }\n",
       "\n",
       "    .dataframe tbody tr th {\n",
       "        vertical-align: top;\n",
       "    }\n",
       "\n",
       "    .dataframe thead th {\n",
       "        text-align: right;\n",
       "    }\n",
       "</style>\n",
       "<table border=\"1\" class=\"dataframe\">\n",
       "  <thead>\n",
       "    <tr style=\"text-align: right;\">\n",
       "      <th></th>\n",
       "      <th>Unnamed: 0</th>\n",
       "      <th>annotation</th>\n",
       "      <th>GRNTI</th>\n",
       "    </tr>\n",
       "  </thead>\n",
       "  <tbody>\n",
       "    <tr>\n",
       "      <th>0</th>\n",
       "      <td>0</td>\n",
       "      <td>Рассматриваются аспекты и параметры алгоритма ...</td>\n",
       "      <td>50. Автоматика. Вычислительная техника</td>\n",
       "    </tr>\n",
       "    <tr>\n",
       "      <th>1</th>\n",
       "      <td>1</td>\n",
       "      <td>Преодолена итерационная процедура решения тран...</td>\n",
       "      <td>73. Транспорт</td>\n",
       "    </tr>\n",
       "    <tr>\n",
       "      <th>2</th>\n",
       "      <td>2</td>\n",
       "      <td>Статья посвящена рассмотрению методов управлен...</td>\n",
       "      <td>06. Экономика. Экономические науки</td>\n",
       "    </tr>\n",
       "    <tr>\n",
       "      <th>3</th>\n",
       "      <td>3</td>\n",
       "      <td>Впервые используется теорема Геделя о неполнот...</td>\n",
       "      <td>27.43. Математика / Теория вероятностей и мате...</td>\n",
       "    </tr>\n",
       "    <tr>\n",
       "      <th>4</th>\n",
       "      <td>4</td>\n",
       "      <td>В 1880-1892 гг. в Якутской области в политичес...</td>\n",
       "      <td>03.61. История. Исторические науки / Этнографи...</td>\n",
       "    </tr>\n",
       "  </tbody>\n",
       "</table>\n",
       "</div>"
      ],
      "text/plain": [
       "   Unnamed: 0                                         annotation  \\\n",
       "0           0  Рассматриваются аспекты и параметры алгоритма ...   \n",
       "1           1  Преодолена итерационная процедура решения тран...   \n",
       "2           2  Статья посвящена рассмотрению методов управлен...   \n",
       "3           3  Впервые используется теорема Геделя о неполнот...   \n",
       "4           4  В 1880-1892 гг. в Якутской области в политичес...   \n",
       "\n",
       "                                               GRNTI  \n",
       "0             50. Автоматика. Вычислительная техника  \n",
       "1                                      73. Транспорт  \n",
       "2                 06. Экономика. Экономические науки  \n",
       "3  27.43. Математика / Теория вероятностей и мате...  \n",
       "4  03.61. История. Исторические науки / Этнографи...  "
      ]
     },
     "execution_count": 2,
     "metadata": {},
     "output_type": "execute_result"
    }
   ],
   "source": [
    "df = pd.read_csv(\"dataset.csv\")\n",
    "df.head()"
   ]
  },
  {
   "cell_type": "markdown",
   "id": "32bc2b15",
   "metadata": {
    "collapsed": false,
    "jupyter": {
     "outputs_hidden": false
    }
   },
   "source": [
    "# Инициализация функций предобработки"
   ]
  },
  {
   "cell_type": "code",
   "execution_count": 3,
   "id": "2e7faad7-2f32-46e4-9580-9dce805b5c45",
   "metadata": {},
   "outputs": [],
   "source": [
    "# Приведение к нижнему регистру и очистка текста с помощью регулярных выражений\n",
    "def preprocess(text):\n",
    "    text = text.lower()\n",
    "    text = text.strip()\n",
    "    text = re.compile('<.*?>').sub('', text)\n",
    "    text = re.compile('[%s]' % re.escape(string.punctuation)).sub(' ', text)\n",
    "    text = re.sub('\\s+', ' ', text)\n",
    "    text = re.sub(r'\\[[0-9]*\\]', ' ', text)\n",
    "    text = re.sub(r'[^\\w\\s]', '', str(text).lower().strip())\n",
    "    text = re.sub(r'\\d', ' ', text)\n",
    "    text = re.sub(r'\\s+', ' ', text)\n",
    "    return text\n",
    "\n",
    "\n",
    "# Очимстка от стоп-слов\n",
    "def stopword(string):\n",
    "    a = [i for i in string.split() if i not in stopwords.words('russian')]\n",
    "    return ' '.join(a)\n",
    "\n",
    "\n",
    "# Лемматизация\n",
    "wl = WordNetLemmatizer()\n",
    "\n",
    "\n",
    "# Костыль для лемматизации\n",
    "def get_wordnet_pos(tag):\n",
    "    if tag.startswith('J'):\n",
    "        return wordnet.ADJ\n",
    "    elif tag.startswith('V'):\n",
    "        return wordnet.VERB\n",
    "    elif tag.startswith('N'):\n",
    "        return wordnet.NOUN\n",
    "    elif tag.startswith('R'):\n",
    "        return wordnet.ADV\n",
    "    else:\n",
    "        return wordnet.NOUN\n",
    "\n",
    "\n",
    "# Токенизация\n",
    "def lemmatizer(string):\n",
    "    word_pos_tags = nltk.pos_tag(word_tokenize(string))\n",
    "    a = [wl.lemmatize(tag[0], get_wordnet_pos(tag[1])) for idx, tag in enumerate(word_pos_tags)]\n",
    "    return \" \".join(a)\n",
    "\n",
    "\n",
    "# Функция финальной предобработки\n",
    "def finalpreprocess(string):\n",
    "    return lemmatizer(stopword(preprocess(string)))"
   ]
  },
  {
   "cell_type": "markdown",
   "id": "cd1d8722",
   "metadata": {
    "collapsed": false,
    "jupyter": {
     "outputs_hidden": false
    }
   },
   "source": [
    "# Предобработка текста"
   ]
  },
  {
   "cell_type": "code",
   "execution_count": 4,
   "id": "1bd19c07-3b27-467b-9721-ddc6feb50828",
   "metadata": {},
   "outputs": [
    {
     "data": {
      "text/html": [
       "<div>\n",
       "<style scoped>\n",
       "    .dataframe tbody tr th:only-of-type {\n",
       "        vertical-align: middle;\n",
       "    }\n",
       "\n",
       "    .dataframe tbody tr th {\n",
       "        vertical-align: top;\n",
       "    }\n",
       "\n",
       "    .dataframe thead th {\n",
       "        text-align: right;\n",
       "    }\n",
       "</style>\n",
       "<table border=\"1\" class=\"dataframe\">\n",
       "  <thead>\n",
       "    <tr style=\"text-align: right;\">\n",
       "      <th></th>\n",
       "      <th>Unnamed: 0</th>\n",
       "      <th>annotation</th>\n",
       "      <th>GRNTI</th>\n",
       "      <th>clean_text</th>\n",
       "    </tr>\n",
       "  </thead>\n",
       "  <tbody>\n",
       "    <tr>\n",
       "      <th>0</th>\n",
       "      <td>0</td>\n",
       "      <td>Рассматриваются аспекты и параметры алгоритма ...</td>\n",
       "      <td>50. Автоматика. Вычислительная техника</td>\n",
       "      <td>рассматриваются аспекты параметры алгоритма по...</td>\n",
       "    </tr>\n",
       "    <tr>\n",
       "      <th>1</th>\n",
       "      <td>1</td>\n",
       "      <td>Преодолена итерационная процедура решения тран...</td>\n",
       "      <td>73. Транспорт</td>\n",
       "      <td>преодолена итерационная процедура решения тран...</td>\n",
       "    </tr>\n",
       "    <tr>\n",
       "      <th>2</th>\n",
       "      <td>2</td>\n",
       "      <td>Статья посвящена рассмотрению методов управлен...</td>\n",
       "      <td>06. Экономика. Экономические науки</td>\n",
       "      <td>статья посвящена рассмотрению методов управлен...</td>\n",
       "    </tr>\n",
       "    <tr>\n",
       "      <th>3</th>\n",
       "      <td>3</td>\n",
       "      <td>Впервые используется теорема Геделя о неполнот...</td>\n",
       "      <td>27.43. Математика / Теория вероятностей и мате...</td>\n",
       "      <td>впервые используется теорема геделя неполноте ...</td>\n",
       "    </tr>\n",
       "    <tr>\n",
       "      <th>4</th>\n",
       "      <td>4</td>\n",
       "      <td>В 1880-1892 гг. в Якутской области в политичес...</td>\n",
       "      <td>03.61. История. Исторические науки / Этнографи...</td>\n",
       "      <td>гг якутской области политической ссылке побыва...</td>\n",
       "    </tr>\n",
       "  </tbody>\n",
       "</table>\n",
       "</div>"
      ],
      "text/plain": [
       "   Unnamed: 0                                         annotation  \\\n",
       "0           0  Рассматриваются аспекты и параметры алгоритма ...   \n",
       "1           1  Преодолена итерационная процедура решения тран...   \n",
       "2           2  Статья посвящена рассмотрению методов управлен...   \n",
       "3           3  Впервые используется теорема Геделя о неполнот...   \n",
       "4           4  В 1880-1892 гг. в Якутской области в политичес...   \n",
       "\n",
       "                                               GRNTI  \\\n",
       "0             50. Автоматика. Вычислительная техника   \n",
       "1                                      73. Транспорт   \n",
       "2                 06. Экономика. Экономические науки   \n",
       "3  27.43. Математика / Теория вероятностей и мате...   \n",
       "4  03.61. История. Исторические науки / Этнографи...   \n",
       "\n",
       "                                          clean_text  \n",
       "0  рассматриваются аспекты параметры алгоритма по...  \n",
       "1  преодолена итерационная процедура решения тран...  \n",
       "2  статья посвящена рассмотрению методов управлен...  \n",
       "3  впервые используется теорема геделя неполноте ...  \n",
       "4  гг якутской области политической ссылке побыва...  "
      ]
     },
     "execution_count": 4,
     "metadata": {},
     "output_type": "execute_result"
    }
   ],
   "source": [
    "df['clean_text'] = df['annotation'].apply(lambda x: finalpreprocess(x))\n",
    "df.head()"
   ]
  },
  {
   "cell_type": "markdown",
   "id": "4be1a103",
   "metadata": {
    "collapsed": false,
    "jupyter": {
     "outputs_hidden": false
    }
   },
   "source": [
    "# Подготовка к обучению"
   ]
  },
  {
   "cell_type": "code",
   "execution_count": 5,
   "id": "4e6b0827-334a-47fb-b087-80c99084455a",
   "metadata": {},
   "outputs": [],
   "source": [
    "# Разделение выборки на обучающую и тестовую\n",
    "X = df['clean_text']\n",
    "y = df['GRNTI'].transform(lambda x: int(x[:2]))\n",
    "X_train, X_test, y_train, y_test = train_test_split(X, y, test_size=0.2, shuffle=True)"
   ]
  },
  {
   "cell_type": "code",
   "execution_count": 6,
   "id": "31be6808-9111-4924-bb8b-81cfdbbf2f41",
   "metadata": {},
   "outputs": [],
   "source": [
    "# Токенизация\n",
    "X_train_tok = [nltk.word_tokenize(i) for i in X_train]\n",
    "X_test_tok = [nltk.word_tokenize(i) for i in X_test]\n",
    "\n",
    "# Векторизация методом Tf-Idf\n",
    "tfidf_vectorizer = TfidfVectorizer(use_idf=True)\n",
    "\n",
    "# Подготовленные векторизованные данные\n",
    "X_train_vectors_tfidf = tfidf_vectorizer.fit_transform(X_train)\n",
    "X_test_vectors_tfidf = tfidf_vectorizer.transform(X_test)\n",
    "\n",
    "# Класс векторизации данных\n",
    "class MeanEmbeddingVectorizer:\n",
    "    def __init__(self, word2vec):\n",
    "        self.word2vec = word2vec\n",
    "        self.dim = len(next(iter(word2vec.values())))\n",
    "\n",
    "    def fit(self, X, y):\n",
    "        return self\n",
    "\n",
    "    def transform(self, X):\n",
    "        return np.array([\n",
    "            np.mean([self.word2vec[w] for w in words if w in self.word2vec]\n",
    "                    or [np.zeros(self.dim)], axis=0)\n",
    "            for words in X\n",
    "        ])\n",
    "\n",
    "# Токенизация данных\n",
    "df['clean_text_tok'] = [nltk.word_tokenize(i) for i in df['clean_text']]\n",
    "# Векторизация методом Word2Vec\n",
    "model = Word2Vec(df['clean_text_tok'], min_count=1)\n",
    "w2v = dict(zip(model.wv.index_to_key, model.wv.vectors))\n",
    "modelw2v = MeanEmbeddingVectorizer(w2v)\n",
    "\n",
    "# Подготовленные векторизованные данные\n",
    "X_train_vectors_w2v = modelw2v.transform(X_train_tok)\n",
    "X_val_vectors_w2v = modelw2v.transform(X_test_tok)"
   ]
  },
  {
   "cell_type": "markdown",
   "id": "200e3276",
   "metadata": {
    "collapsed": false,
    "jupyter": {
     "outputs_hidden": false
    }
   },
   "source": [
    "# Обучение и тестирование моделей"
   ]
  },
  {
   "cell_type": "markdown",
   "id": "fcd437bd",
   "metadata": {
    "collapsed": false,
    "jupyter": {
     "outputs_hidden": false
    }
   },
   "source": [
    "## LogisticRegression"
   ]
  },
  {
   "cell_type": "markdown",
   "id": "27aa0eae",
   "metadata": {
    "collapsed": false,
    "jupyter": {
     "outputs_hidden": false
    }
   },
   "source": [
    "### Предобработка Tf-Idf"
   ]
  },
  {
   "cell_type": "code",
   "execution_count": 7,
   "id": "fb4a5112-c655-4aec-9df8-a2b0975574b5",
   "metadata": {},
   "outputs": [
    {
     "name": "stdout",
     "output_type": "stream",
     "text": [
      "              precision    recall  f1-score   support\n",
      "\n",
      "           0       0.67      0.67      0.67         3\n",
      "           3       0.00      0.00      0.00         4\n",
      "           4       0.00      0.00      0.00         3\n",
      "           6       0.30      0.89      0.45        18\n",
      "          10       0.33      0.20      0.25         5\n",
      "          11       0.00      0.00      0.00         2\n",
      "          13       0.33      0.50      0.40         2\n",
      "          14       0.44      0.64      0.52        11\n",
      "          16       1.00      0.50      0.67         2\n",
      "          17       0.00      0.00      0.00         5\n",
      "          19       0.00      0.00      0.00         1\n",
      "          27       0.92      0.79      0.85        14\n",
      "          29       0.00      0.00      0.00         2\n",
      "          30       0.00      0.00      0.00         1\n",
      "          31       0.60      0.43      0.50         7\n",
      "          34       0.22      0.71      0.33         7\n",
      "          36       0.00      0.00      0.00         1\n",
      "          37       0.00      0.00      0.00         1\n",
      "          38       0.00      0.00      0.00         2\n",
      "          50       0.00      0.00      0.00         6\n",
      "          52       0.00      0.00      0.00         1\n",
      "          55       0.00      0.00      0.00         2\n",
      "          62       0.00      0.00      0.00         1\n",
      "          65       1.00      0.75      0.86         4\n",
      "          67       1.00      1.00      1.00         1\n",
      "          68       1.00      0.11      0.20         9\n",
      "          70       0.00      0.00      0.00         2\n",
      "          71       0.00      0.00      0.00         2\n",
      "          73       0.00      0.00      0.00         1\n",
      "          76       1.00      0.83      0.91         6\n",
      "          77       0.00      0.00      0.00         1\n",
      "          82       0.00      0.00      0.00         1\n",
      "          87       0.00      0.00      0.00         1\n",
      "\n",
      "    accuracy                           0.44       129\n",
      "   macro avg       0.27      0.24      0.23       129\n",
      "weighted avg       0.43      0.44      0.38       129\n",
      "\n"
     ]
    }
   ],
   "source": [
    "lr_tfidf = LogisticRegression(solver='liblinear', C=10, penalty='l2', n_jobs=-1)\n",
    "lr_tfidf.fit(X_train_vectors_tfidf, y_train)\n",
    "\n",
    "y_predict = lr_tfidf.predict(X_test_vectors_tfidf)\n",
    "print(classification_report(y_test, y_predict))"
   ]
  },
  {
   "cell_type": "markdown",
   "id": "1fa4b96e",
   "metadata": {
    "collapsed": false,
    "jupyter": {
     "outputs_hidden": false
    }
   },
   "source": [
    "### Предобработка Word2Vec"
   ]
  },
  {
   "cell_type": "code",
   "execution_count": 8,
   "id": "afccae71-65f1-422c-b81d-fc527ad19629",
   "metadata": {},
   "outputs": [
    {
     "name": "stdout",
     "output_type": "stream",
     "text": [
      "              precision    recall  f1-score   support\n",
      "\n",
      "           0       0.00      0.00      0.00         3\n",
      "           3       0.00      0.00      0.00         4\n",
      "           4       0.00      0.00      0.00         3\n",
      "           6       0.14      1.00      0.24        18\n",
      "          10       0.00      0.00      0.00         5\n",
      "          11       0.00      0.00      0.00         2\n",
      "          13       0.00      0.00      0.00         2\n",
      "          14       0.00      0.00      0.00        11\n",
      "          16       0.00      0.00      0.00         2\n",
      "          17       0.00      0.00      0.00         5\n",
      "          19       0.00      0.00      0.00         1\n",
      "          27       0.00      0.00      0.00        14\n",
      "          29       0.00      0.00      0.00         2\n",
      "          30       0.00      0.00      0.00         1\n",
      "          31       0.00      0.00      0.00         7\n",
      "          34       0.00      0.00      0.00         7\n",
      "          36       0.00      0.00      0.00         1\n",
      "          37       0.00      0.00      0.00         1\n",
      "          38       0.00      0.00      0.00         2\n",
      "          50       0.00      0.00      0.00         6\n",
      "          52       0.00      0.00      0.00         1\n",
      "          55       0.00      0.00      0.00         2\n",
      "          62       0.00      0.00      0.00         1\n",
      "          65       0.00      0.00      0.00         4\n",
      "          67       0.00      0.00      0.00         1\n",
      "          68       0.00      0.00      0.00         9\n",
      "          70       0.00      0.00      0.00         2\n",
      "          71       0.00      0.00      0.00         2\n",
      "          73       0.00      0.00      0.00         1\n",
      "          76       0.00      0.00      0.00         6\n",
      "          77       0.00      0.00      0.00         1\n",
      "          82       0.00      0.00      0.00         1\n",
      "          87       0.00      0.00      0.00         1\n",
      "\n",
      "    accuracy                           0.14       129\n",
      "   macro avg       0.00      0.03      0.01       129\n",
      "weighted avg       0.02      0.14      0.03       129\n",
      "\n"
     ]
    }
   ],
   "source": [
    "lr_w2v = LogisticRegression(solver='liblinear', C=10, penalty='l2', n_jobs=-1)\n",
    "lr_w2v.fit(X_train_vectors_w2v, y_train)\n",
    "\n",
    "y_predict = lr_w2v.predict(X_val_vectors_w2v)\n",
    "print(classification_report(y_test, y_predict))"
   ]
  },
  {
   "cell_type": "markdown",
   "id": "76d89474-d003-4c14-97b7-adb7c8ee72d0",
   "metadata": {},
   "source": [
    "## SGDClassifier"
   ]
  },
  {
   "cell_type": "markdown",
   "id": "8404ec10-0192-4c4d-b52c-e86916f7396f",
   "metadata": {
    "collapsed": false,
    "jupyter": {
     "outputs_hidden": false
    }
   },
   "source": [
    "### Предобработка Tf-Idf"
   ]
  },
  {
   "cell_type": "code",
   "execution_count": 9,
   "id": "afaa9935-85b0-41d7-b9dd-48753394f3f9",
   "metadata": {},
   "outputs": [
    {
     "name": "stdout",
     "output_type": "stream",
     "text": [
      "              precision    recall  f1-score   support\n",
      "\n",
      "           0       1.00      0.67      0.80         3\n",
      "           3       0.00      0.00      0.00         4\n",
      "           4       0.00      0.00      0.00         3\n",
      "           6       0.18      0.94      0.31        18\n",
      "          10       0.00      0.00      0.00         5\n",
      "          11       0.00      0.00      0.00         2\n",
      "          13       0.00      0.00      0.00         2\n",
      "          14       0.67      0.18      0.29        11\n",
      "          16       0.00      0.00      0.00         2\n",
      "          17       0.00      0.00      0.00         5\n",
      "          19       0.00      0.00      0.00         1\n",
      "          27       1.00      0.29      0.44        14\n",
      "          29       0.00      0.00      0.00         2\n",
      "          30       0.00      0.00      0.00         1\n",
      "          31       0.00      0.00      0.00         7\n",
      "          34       0.20      0.71      0.31         7\n",
      "          36       0.00      0.00      0.00         1\n",
      "          37       0.00      0.00      0.00         1\n",
      "          38       0.00      0.00      0.00         2\n",
      "          50       0.00      0.00      0.00         6\n",
      "          52       0.00      0.00      0.00         1\n",
      "          55       0.00      0.00      0.00         2\n",
      "          62       0.00      0.00      0.00         1\n",
      "          65       0.00      0.00      0.00         4\n",
      "          67       0.00      0.00      0.00         1\n",
      "          68       0.00      0.00      0.00         9\n",
      "          70       0.00      0.00      0.00         2\n",
      "          71       0.00      0.00      0.00         2\n",
      "          73       0.00      0.00      0.00         1\n",
      "          76       1.00      0.33      0.50         6\n",
      "          77       0.00      0.00      0.00         1\n",
      "          82       0.00      0.00      0.00         1\n",
      "          87       0.00      0.00      0.00         1\n",
      "\n",
      "    accuracy                           0.25       129\n",
      "   macro avg       0.12      0.09      0.08       129\n",
      "weighted avg       0.27      0.25      0.17       129\n",
      "\n"
     ]
    }
   ],
   "source": [
    "sgd_tfidf = LogisticRegression(n_jobs=-1)\n",
    "sgd_tfidf.fit(X_train_vectors_tfidf, y_train)\n",
    "\n",
    "y_predict = sgd_tfidf.predict(X_test_vectors_tfidf)\n",
    "print(classification_report(y_test, y_predict))"
   ]
  },
  {
   "cell_type": "markdown",
   "id": "bde834ce-7c22-4356-a629-b7ecea37a163",
   "metadata": {
    "collapsed": false,
    "jupyter": {
     "outputs_hidden": false
    }
   },
   "source": [
    "### Предобработка Word2Vec"
   ]
  },
  {
   "cell_type": "code",
   "execution_count": 10,
   "id": "58458987-a787-401b-a813-196eb4e0899a",
   "metadata": {},
   "outputs": [
    {
     "name": "stdout",
     "output_type": "stream",
     "text": [
      "              precision    recall  f1-score   support\n",
      "\n",
      "           0       0.00      0.00      0.00         3\n",
      "           3       0.00      0.00      0.00         4\n",
      "           4       0.00      0.00      0.00         3\n",
      "           6       0.14      1.00      0.24        18\n",
      "          10       0.00      0.00      0.00         5\n",
      "          11       0.00      0.00      0.00         2\n",
      "          13       0.00      0.00      0.00         2\n",
      "          14       0.00      0.00      0.00        11\n",
      "          16       0.00      0.00      0.00         2\n",
      "          17       0.00      0.00      0.00         5\n",
      "          19       0.00      0.00      0.00         1\n",
      "          27       0.00      0.00      0.00        14\n",
      "          29       0.00      0.00      0.00         2\n",
      "          30       0.00      0.00      0.00         1\n",
      "          31       0.00      0.00      0.00         7\n",
      "          34       0.00      0.00      0.00         7\n",
      "          36       0.00      0.00      0.00         1\n",
      "          37       0.00      0.00      0.00         1\n",
      "          38       0.00      0.00      0.00         2\n",
      "          50       0.00      0.00      0.00         6\n",
      "          52       0.00      0.00      0.00         1\n",
      "          55       0.00      0.00      0.00         2\n",
      "          62       0.00      0.00      0.00         1\n",
      "          65       0.00      0.00      0.00         4\n",
      "          67       0.00      0.00      0.00         1\n",
      "          68       0.00      0.00      0.00         9\n",
      "          70       0.00      0.00      0.00         2\n",
      "          71       0.00      0.00      0.00         2\n",
      "          73       0.00      0.00      0.00         1\n",
      "          76       0.00      0.00      0.00         6\n",
      "          77       0.00      0.00      0.00         1\n",
      "          82       0.00      0.00      0.00         1\n",
      "          87       0.00      0.00      0.00         1\n",
      "\n",
      "    accuracy                           0.14       129\n",
      "   macro avg       0.00      0.03      0.01       129\n",
      "weighted avg       0.02      0.14      0.03       129\n",
      "\n"
     ]
    }
   ],
   "source": [
    "sgd_w2v = LogisticRegression(n_jobs=-1)\n",
    "sgd_w2v.fit(X_train_vectors_w2v, y_train)\n",
    "\n",
    "y_predict = sgd_w2v.predict(X_val_vectors_w2v)\n",
    "print(classification_report(y_test, y_predict))"
   ]
  },
  {
   "cell_type": "markdown",
   "id": "4f11f60c-4cf7-4090-a227-666b2cb4de54",
   "metadata": {},
   "source": [
    "## DecisionTreeClassifier"
   ]
  },
  {
   "cell_type": "markdown",
   "id": "d16ffb79-9edb-4c12-9af8-f865069214fe",
   "metadata": {
    "collapsed": false,
    "jupyter": {
     "outputs_hidden": false
    }
   },
   "source": [
    "### Предобработка Tf-Idf"
   ]
  },
  {
   "cell_type": "code",
   "execution_count": 11,
   "id": "061a0fbb-374c-4312-96e5-6e8b5417c5a8",
   "metadata": {},
   "outputs": [
    {
     "name": "stdout",
     "output_type": "stream",
     "text": [
      "              precision    recall  f1-score   support\n",
      "\n",
      "           0       0.40      0.67      0.50         3\n",
      "           2       0.00      0.00      0.00         0\n",
      "           3       0.00      0.00      0.00         4\n",
      "           4       0.00      0.00      0.00         3\n",
      "           6       0.38      0.28      0.32        18\n",
      "          10       0.29      0.40      0.33         5\n",
      "          11       0.00      0.00      0.00         2\n",
      "          13       0.25      0.50      0.33         2\n",
      "          14       0.23      0.27      0.25        11\n",
      "          16       0.50      0.50      0.50         2\n",
      "          17       1.00      0.20      0.33         5\n",
      "          19       0.00      0.00      0.00         1\n",
      "          20       0.00      0.00      0.00         0\n",
      "          27       0.75      0.21      0.33        14\n",
      "          29       0.33      0.50      0.40         2\n",
      "          30       0.00      0.00      0.00         1\n",
      "          31       0.62      0.71      0.67         7\n",
      "          34       0.22      0.29      0.25         7\n",
      "          36       0.00      0.00      0.00         1\n",
      "          37       0.00      0.00      0.00         1\n",
      "          38       0.00      0.00      0.00         2\n",
      "          45       0.00      0.00      0.00         0\n",
      "          47       0.00      0.00      0.00         0\n",
      "          50       0.00      0.00      0.00         6\n",
      "          52       0.00      0.00      0.00         1\n",
      "          55       0.00      0.00      0.00         2\n",
      "          61       0.00      0.00      0.00         0\n",
      "          62       0.00      0.00      0.00         1\n",
      "          65       0.75      0.75      0.75         4\n",
      "          67       1.00      1.00      1.00         1\n",
      "          68       0.17      0.11      0.13         9\n",
      "          70       0.00      0.00      0.00         2\n",
      "          71       0.00      0.00      0.00         2\n",
      "          73       0.00      0.00      0.00         1\n",
      "          76       0.16      0.67      0.26         6\n",
      "          77       0.00      0.00      0.00         1\n",
      "          82       0.00      0.00      0.00         1\n",
      "          87       0.00      0.00      0.00         1\n",
      "\n",
      "    accuracy                           0.27       129\n",
      "   macro avg       0.19      0.19      0.17       129\n",
      "weighted avg       0.33      0.27      0.26       129\n",
      "\n"
     ]
    }
   ],
   "source": [
    "dt_tfidf = DecisionTreeClassifier()\n",
    "dt_tfidf.fit(X_train_vectors_tfidf, y_train)\n",
    "\n",
    "y_predict = dt_tfidf.predict(X_test_vectors_tfidf)\n",
    "print(classification_report(y_test, y_predict))"
   ]
  },
  {
   "cell_type": "markdown",
   "id": "99c3e5b6-a668-4b27-9064-aeab32a3f11e",
   "metadata": {
    "collapsed": false,
    "jupyter": {
     "outputs_hidden": false
    }
   },
   "source": [
    "### Предобработка Word2Vec"
   ]
  },
  {
   "cell_type": "code",
   "execution_count": 12,
   "id": "a354cdac-0338-4e2b-a3fa-b2ae1b7c1059",
   "metadata": {},
   "outputs": [
    {
     "name": "stdout",
     "output_type": "stream",
     "text": [
      "              precision    recall  f1-score   support\n",
      "\n",
      "           0       0.40      0.67      0.50         3\n",
      "           2       0.00      0.00      0.00         0\n",
      "           3       0.20      0.25      0.22         4\n",
      "           4       0.00      0.00      0.00         3\n",
      "           6       0.17      0.11      0.13        18\n",
      "          10       0.00      0.00      0.00         5\n",
      "          11       0.00      0.00      0.00         2\n",
      "          13       0.00      0.00      0.00         2\n",
      "          14       0.29      0.18      0.22        11\n",
      "          15       0.00      0.00      0.00         0\n",
      "          16       0.00      0.00      0.00         2\n",
      "          17       0.00      0.00      0.00         5\n",
      "          19       0.00      0.00      0.00         1\n",
      "          20       0.00      0.00      0.00         0\n",
      "          27       0.00      0.00      0.00        14\n",
      "          29       0.00      0.00      0.00         2\n",
      "          30       0.00      0.00      0.00         1\n",
      "          31       0.00      0.00      0.00         7\n",
      "          34       0.00      0.00      0.00         7\n",
      "          36       0.00      0.00      0.00         1\n",
      "          37       0.00      0.00      0.00         1\n",
      "          38       0.00      0.00      0.00         2\n",
      "          39       0.00      0.00      0.00         0\n",
      "          44       0.00      0.00      0.00         0\n",
      "          45       0.00      0.00      0.00         0\n",
      "          47       0.00      0.00      0.00         0\n",
      "          50       0.00      0.00      0.00         6\n",
      "          52       0.00      0.00      0.00         1\n",
      "          55       0.00      0.00      0.00         2\n",
      "          62       0.00      0.00      0.00         1\n",
      "          65       0.00      0.00      0.00         4\n",
      "          67       0.00      0.00      0.00         1\n",
      "          68       0.10      0.11      0.11         9\n",
      "          69       0.00      0.00      0.00         0\n",
      "          70       0.00      0.00      0.00         2\n",
      "          71       0.00      0.00      0.00         2\n",
      "          73       0.00      0.00      0.00         1\n",
      "          76       0.00      0.00      0.00         6\n",
      "          77       0.00      0.00      0.00         1\n",
      "          82       0.00      0.00      0.00         1\n",
      "          87       0.00      0.00      0.00         1\n",
      "\n",
      "    accuracy                           0.06       129\n",
      "   macro avg       0.03      0.03      0.03       129\n",
      "weighted avg       0.07      0.06      0.06       129\n",
      "\n"
     ]
    }
   ],
   "source": [
    "dt_w2v = DecisionTreeClassifier()\n",
    "dt_w2v.fit(X_train_vectors_w2v, y_train)\n",
    "\n",
    "y_predict = dt_w2v.predict(X_val_vectors_w2v)\n",
    "print(classification_report(y_test, y_predict))"
   ]
  },
  {
   "cell_type": "markdown",
   "id": "b901cd36-0bb7-442b-a602-645be61fe229",
   "metadata": {},
   "source": [
    "## RandomForestClassifier"
   ]
  },
  {
   "cell_type": "markdown",
   "id": "374c1ec5-f640-4e42-9acc-2976ee553061",
   "metadata": {
    "collapsed": false,
    "jupyter": {
     "outputs_hidden": false
    }
   },
   "source": [
    "### Предобработка Tf-Idf"
   ]
  },
  {
   "cell_type": "code",
   "execution_count": 13,
   "id": "121076c7-48be-432a-aec8-06902811f722",
   "metadata": {},
   "outputs": [
    {
     "name": "stdout",
     "output_type": "stream",
     "text": [
      "              precision    recall  f1-score   support\n",
      "\n",
      "           0       0.75      1.00      0.86         3\n",
      "           2       0.00      0.00      0.00         0\n",
      "           3       0.00      0.00      0.00         4\n",
      "           4       0.00      0.00      0.00         3\n",
      "           6       0.23      0.83      0.36        18\n",
      "          10       0.33      0.40      0.36         5\n",
      "          11       0.00      0.00      0.00         2\n",
      "          13       0.50      0.50      0.50         2\n",
      "          14       0.27      0.36      0.31        11\n",
      "          16       0.00      0.00      0.00         2\n",
      "          17       0.00      0.00      0.00         5\n",
      "          19       0.00      0.00      0.00         1\n",
      "          27       0.89      0.57      0.70        14\n",
      "          29       0.00      0.00      0.00         2\n",
      "          30       0.00      0.00      0.00         1\n",
      "          31       1.00      0.29      0.44         7\n",
      "          34       0.29      0.57      0.38         7\n",
      "          36       0.00      0.00      0.00         1\n",
      "          37       0.00      0.00      0.00         1\n",
      "          38       0.00      0.00      0.00         2\n",
      "          50       0.00      0.00      0.00         6\n",
      "          52       0.00      0.00      0.00         1\n",
      "          55       0.00      0.00      0.00         2\n",
      "          62       0.00      0.00      0.00         1\n",
      "          65       1.00      0.75      0.86         4\n",
      "          67       1.00      1.00      1.00         1\n",
      "          68       0.00      0.00      0.00         9\n",
      "          70       0.00      0.00      0.00         2\n",
      "          71       0.00      0.00      0.00         2\n",
      "          73       0.00      0.00      0.00         1\n",
      "          76       0.67      0.33      0.44         6\n",
      "          77       0.00      0.00      0.00         1\n",
      "          82       0.00      0.00      0.00         1\n",
      "          87       0.00      0.00      0.00         1\n",
      "\n",
      "    accuracy                           0.35       129\n",
      "   macro avg       0.20      0.19      0.18       129\n",
      "weighted avg       0.33      0.35      0.29       129\n",
      "\n"
     ]
    }
   ],
   "source": [
    "rf_tfidf = RandomForestClassifier(n_jobs=-1)\n",
    "rf_tfidf.fit(X_train_vectors_tfidf, y_train)\n",
    "\n",
    "y_predict = rf_tfidf.predict(X_test_vectors_tfidf)\n",
    "print(classification_report(y_test, y_predict))"
   ]
  },
  {
   "cell_type": "markdown",
   "id": "fdb675a3-2eb3-4c99-a8d0-f0f7131563f5",
   "metadata": {
    "collapsed": false,
    "jupyter": {
     "outputs_hidden": false
    }
   },
   "source": [
    "### Предобработка Word2Vec"
   ]
  },
  {
   "cell_type": "code",
   "execution_count": 14,
   "id": "54dafee3-9948-4075-863b-b459ea337541",
   "metadata": {},
   "outputs": [
    {
     "name": "stdout",
     "output_type": "stream",
     "text": [
      "              precision    recall  f1-score   support\n",
      "\n",
      "           0       1.00      0.67      0.80         3\n",
      "           3       0.50      0.25      0.33         4\n",
      "           4       0.00      0.00      0.00         3\n",
      "           6       0.23      0.72      0.35        18\n",
      "          10       0.00      0.00      0.00         5\n",
      "          11       0.00      0.00      0.00         2\n",
      "          13       0.50      0.50      0.50         2\n",
      "          14       0.22      0.18      0.20        11\n",
      "          16       0.00      0.00      0.00         2\n",
      "          17       0.00      0.00      0.00         5\n",
      "          19       0.00      0.00      0.00         1\n",
      "          27       0.25      0.07      0.11        14\n",
      "          29       0.00      0.00      0.00         2\n",
      "          30       0.00      0.00      0.00         1\n",
      "          31       0.50      0.14      0.22         7\n",
      "          34       0.09      0.43      0.15         7\n",
      "          36       0.00      0.00      0.00         1\n",
      "          37       0.00      0.00      0.00         1\n",
      "          38       0.00      0.00      0.00         2\n",
      "          44       0.00      0.00      0.00         0\n",
      "          50       0.00      0.00      0.00         6\n",
      "          52       0.00      0.00      0.00         1\n",
      "          55       0.00      0.00      0.00         2\n",
      "          62       0.00      0.00      0.00         1\n",
      "          65       0.00      0.00      0.00         4\n",
      "          67       0.00      0.00      0.00         1\n",
      "          68       0.00      0.00      0.00         9\n",
      "          70       0.00      0.00      0.00         2\n",
      "          71       0.00      0.00      0.00         2\n",
      "          73       0.00      0.00      0.00         1\n",
      "          76       0.00      0.00      0.00         6\n",
      "          77       0.00      0.00      0.00         1\n",
      "          82       0.00      0.00      0.00         1\n",
      "          87       0.00      0.00      0.00         1\n",
      "\n",
      "    accuracy                           0.19       129\n",
      "   macro avg       0.10      0.09      0.08       129\n",
      "weighted avg       0.16      0.19      0.13       129\n",
      "\n"
     ]
    }
   ],
   "source": [
    "rf_w2v = RandomForestClassifier(n_jobs=-1)\n",
    "rf_w2v.fit(X_train_vectors_w2v, y_train)\n",
    "\n",
    "y_predict = rf_w2v.predict(X_val_vectors_w2v)\n",
    "print(classification_report(y_test, y_predict))"
   ]
  },
  {
   "cell_type": "markdown",
   "id": "ab0156e4",
   "metadata": {
    "collapsed": false,
    "jupyter": {
     "outputs_hidden": false
    }
   },
   "source": [
    "## MultinomialNB"
   ]
  },
  {
   "cell_type": "markdown",
   "id": "27f96a40",
   "metadata": {
    "collapsed": false,
    "jupyter": {
     "outputs_hidden": false
    }
   },
   "source": [
    "### Предобработка Tf-Idf"
   ]
  },
  {
   "cell_type": "code",
   "execution_count": 15,
   "id": "d9a3dad6-715e-4dca-bcec-a0fd05849c63",
   "metadata": {},
   "outputs": [
    {
     "name": "stdout",
     "output_type": "stream",
     "text": [
      "              precision    recall  f1-score   support\n",
      "\n",
      "           0       1.00      0.33      0.50         3\n",
      "           3       0.00      0.00      0.00         4\n",
      "           4       0.00      0.00      0.00         3\n",
      "           6       0.16      1.00      0.27        18\n",
      "          10       0.00      0.00      0.00         5\n",
      "          11       0.00      0.00      0.00         2\n",
      "          13       0.00      0.00      0.00         2\n",
      "          14       0.00      0.00      0.00        11\n",
      "          16       0.00      0.00      0.00         2\n",
      "          17       0.00      0.00      0.00         5\n",
      "          19       0.00      0.00      0.00         1\n",
      "          27       1.00      0.07      0.13        14\n",
      "          29       0.00      0.00      0.00         2\n",
      "          30       0.00      0.00      0.00         1\n",
      "          31       0.00      0.00      0.00         7\n",
      "          34       0.36      0.71      0.48         7\n",
      "          36       0.00      0.00      0.00         1\n",
      "          37       0.00      0.00      0.00         1\n",
      "          38       0.00      0.00      0.00         2\n",
      "          50       0.00      0.00      0.00         6\n",
      "          52       0.00      0.00      0.00         1\n",
      "          55       0.00      0.00      0.00         2\n",
      "          62       0.00      0.00      0.00         1\n",
      "          65       0.00      0.00      0.00         4\n",
      "          67       0.00      0.00      0.00         1\n",
      "          68       0.00      0.00      0.00         9\n",
      "          70       0.00      0.00      0.00         2\n",
      "          71       0.00      0.00      0.00         2\n",
      "          73       0.00      0.00      0.00         1\n",
      "          76       0.00      0.00      0.00         6\n",
      "          77       0.00      0.00      0.00         1\n",
      "          82       0.00      0.00      0.00         1\n",
      "          87       0.00      0.00      0.00         1\n",
      "\n",
      "    accuracy                           0.19       129\n",
      "   macro avg       0.08      0.06      0.04       129\n",
      "weighted avg       0.17      0.19      0.09       129\n",
      "\n"
     ]
    }
   ],
   "source": [
    "nb_tfidf = MultinomialNB()\n",
    "nb_tfidf.fit(X_train_vectors_tfidf, y_train)\n",
    "\n",
    "y_predict = nb_tfidf.predict(X_test_vectors_tfidf)\n",
    "print(classification_report(y_test, y_predict))"
   ]
  },
  {
   "cell_type": "markdown",
   "id": "7fcf05f6-9b40-4e45-ad9b-011cf34e9aee",
   "metadata": {},
   "source": [
    "# Сохранение модели"
   ]
  },
  {
   "cell_type": "code",
   "execution_count": 16,
   "id": "435ecb8a-87b9-4122-8187-7f6878e50308",
   "metadata": {},
   "outputs": [
    {
     "data": {
      "text/html": [
       "<style>#sk-container-id-1 {color: black;}#sk-container-id-1 pre{padding: 0;}#sk-container-id-1 div.sk-toggleable {background-color: white;}#sk-container-id-1 label.sk-toggleable__label {cursor: pointer;display: block;width: 100%;margin-bottom: 0;padding: 0.3em;box-sizing: border-box;text-align: center;}#sk-container-id-1 label.sk-toggleable__label-arrow:before {content: \"▸\";float: left;margin-right: 0.25em;color: #696969;}#sk-container-id-1 label.sk-toggleable__label-arrow:hover:before {color: black;}#sk-container-id-1 div.sk-estimator:hover label.sk-toggleable__label-arrow:before {color: black;}#sk-container-id-1 div.sk-toggleable__content {max-height: 0;max-width: 0;overflow: hidden;text-align: left;background-color: #f0f8ff;}#sk-container-id-1 div.sk-toggleable__content pre {margin: 0.2em;color: black;border-radius: 0.25em;background-color: #f0f8ff;}#sk-container-id-1 input.sk-toggleable__control:checked~div.sk-toggleable__content {max-height: 200px;max-width: 100%;overflow: auto;}#sk-container-id-1 input.sk-toggleable__control:checked~label.sk-toggleable__label-arrow:before {content: \"▾\";}#sk-container-id-1 div.sk-estimator input.sk-toggleable__control:checked~label.sk-toggleable__label {background-color: #d4ebff;}#sk-container-id-1 div.sk-label input.sk-toggleable__control:checked~label.sk-toggleable__label {background-color: #d4ebff;}#sk-container-id-1 input.sk-hidden--visually {border: 0;clip: rect(1px 1px 1px 1px);clip: rect(1px, 1px, 1px, 1px);height: 1px;margin: -1px;overflow: hidden;padding: 0;position: absolute;width: 1px;}#sk-container-id-1 div.sk-estimator {font-family: monospace;background-color: #f0f8ff;border: 1px dotted black;border-radius: 0.25em;box-sizing: border-box;margin-bottom: 0.5em;}#sk-container-id-1 div.sk-estimator:hover {background-color: #d4ebff;}#sk-container-id-1 div.sk-parallel-item::after {content: \"\";width: 100%;border-bottom: 1px solid gray;flex-grow: 1;}#sk-container-id-1 div.sk-label:hover label.sk-toggleable__label {background-color: #d4ebff;}#sk-container-id-1 div.sk-serial::before {content: \"\";position: absolute;border-left: 1px solid gray;box-sizing: border-box;top: 0;bottom: 0;left: 50%;z-index: 0;}#sk-container-id-1 div.sk-serial {display: flex;flex-direction: column;align-items: center;background-color: white;padding-right: 0.2em;padding-left: 0.2em;position: relative;}#sk-container-id-1 div.sk-item {position: relative;z-index: 1;}#sk-container-id-1 div.sk-parallel {display: flex;align-items: stretch;justify-content: center;background-color: white;position: relative;}#sk-container-id-1 div.sk-item::before, #sk-container-id-1 div.sk-parallel-item::before {content: \"\";position: absolute;border-left: 1px solid gray;box-sizing: border-box;top: 0;bottom: 0;left: 50%;z-index: -1;}#sk-container-id-1 div.sk-parallel-item {display: flex;flex-direction: column;z-index: 1;position: relative;background-color: white;}#sk-container-id-1 div.sk-parallel-item:first-child::after {align-self: flex-end;width: 50%;}#sk-container-id-1 div.sk-parallel-item:last-child::after {align-self: flex-start;width: 50%;}#sk-container-id-1 div.sk-parallel-item:only-child::after {width: 0;}#sk-container-id-1 div.sk-dashed-wrapped {border: 1px dashed gray;margin: 0 0.4em 0.5em 0.4em;box-sizing: border-box;padding-bottom: 0.4em;background-color: white;}#sk-container-id-1 div.sk-label label {font-family: monospace;font-weight: bold;display: inline-block;line-height: 1.2em;}#sk-container-id-1 div.sk-label-container {text-align: center;}#sk-container-id-1 div.sk-container {/* jupyter's `normalize.less` sets `[hidden] { display: none; }` but bootstrap.min.css set `[hidden] { display: none !important; }` so we also need the `!important` here to be able to override the default hidden behavior on the sphinx rendered scikit-learn.org. See: https://github.com/scikit-learn/scikit-learn/issues/21755 */display: inline-block !important;position: relative;}#sk-container-id-1 div.sk-text-repr-fallback {display: none;}</style><div id=\"sk-container-id-1\" class=\"sk-top-container\"><div class=\"sk-text-repr-fallback\"><pre>LogisticRegression(C=10, n_jobs=-1, solver=&#x27;liblinear&#x27;)</pre><b>In a Jupyter environment, please rerun this cell to show the HTML representation or trust the notebook. <br />On GitHub, the HTML representation is unable to render, please try loading this page with nbviewer.org.</b></div><div class=\"sk-container\" hidden><div class=\"sk-item\"><div class=\"sk-estimator sk-toggleable\"><input class=\"sk-toggleable__control sk-hidden--visually\" id=\"sk-estimator-id-1\" type=\"checkbox\" checked><label for=\"sk-estimator-id-1\" class=\"sk-toggleable__label sk-toggleable__label-arrow\">LogisticRegression</label><div class=\"sk-toggleable__content\"><pre>LogisticRegression(C=10, n_jobs=-1, solver=&#x27;liblinear&#x27;)</pre></div></div></div></div></div>"
      ],
      "text/plain": [
       "LogisticRegression(C=10, n_jobs=-1, solver='liblinear')"
      ]
     },
     "execution_count": 16,
     "metadata": {},
     "output_type": "execute_result"
    }
   ],
   "source": [
    "# Сохранение модели\n",
    "pkl_filename = \"model.pkl\"\n",
    "with open(pkl_filename, 'wb') as file:\n",
    "    pickle.dump(lr_tfidf, file)\n",
    "\n",
    "# Загрузка модели\n",
    "with open(pkl_filename, 'rb') as file:\n",
    "    model = pickle.load(file)\n",
    "\n",
    "model"
   ]
  },
  {
   "cell_type": "code",
   "execution_count": null,
   "id": "5a842841-ee96-4769-97c0-b87bcf2e9d4a",
   "metadata": {},
   "outputs": [],
   "source": []
  }
 ],
 "metadata": {
  "kernelspec": {
   "display_name": "Python 3 (ipykernel)",
   "language": "python",
   "name": "python3"
  },
  "language_info": {
   "codemirror_mode": {
    "name": "ipython",
    "version": 3
   },
   "file_extension": ".py",
   "mimetype": "text/x-python",
   "name": "python",
   "nbconvert_exporter": "python",
   "pygments_lexer": "ipython3",
   "version": "3.10.9"
  }
 },
 "nbformat": 4,
 "nbformat_minor": 5
}
